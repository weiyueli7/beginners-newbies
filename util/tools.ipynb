{
 "cells": [
  {
   "cell_type": "code",
   "execution_count": 1,
   "metadata": {},
   "outputs": [],
   "source": [
    "import pandas as pd\n",
    "import numpy as np\n",
    "from pathlib import Path\n",
    "from matplotlib import pyplot as plt\n",
    "data_pth = Path('../data/')"
   ]
  },
  {
   "cell_type": "code",
   "execution_count": null,
   "metadata": {},
   "outputs": [],
   "source": [
    "# generate the constants json\n",
    "import json\n",
    "cpi99_cons = {}\n",
    "\n",
    "with open(data_pth / 'CPI99_constants', 'r') as fin:\n",
    "    yr = 1962\n",
    "    for ln in fin.readlines():\n",
    "        cpi99_cons[yr] = float(ln.strip())\n",
    "        yr += 1\n",
    "\n",
    "with open(data_pth / 'cpi99_cons.json', 'w') as fout:\n",
    "    json.dump(cpi99_cons, fout)"
   ]
  }
 ],
 "metadata": {
  "interpreter": {
   "hash": "8f7cfbb7ef904ddf1d690707a1cc721bc294144ec6b23e9344aaa279ecf05b8a"
  },
  "kernelspec": {
   "display_name": "Python 3.7.4 64-bit",
   "language": "python",
   "name": "python3"
  },
  "language_info": {
   "codemirror_mode": {
    "name": "ipython",
    "version": 3
   },
   "file_extension": ".py",
   "mimetype": "text/x-python",
   "name": "python",
   "nbconvert_exporter": "python",
   "pygments_lexer": "ipython3",
   "version": "3.7.4"
  },
  "orig_nbformat": 4
 },
 "nbformat": 4,
 "nbformat_minor": 2
}
