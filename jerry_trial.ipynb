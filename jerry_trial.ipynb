{
 "cells": [
  {
   "cell_type": "markdown",
   "metadata": {},
   "source": [
    "## imports"
   ]
  },
  {
   "cell_type": "code",
   "execution_count": 135,
   "metadata": {},
   "outputs": [],
   "source": [
    "import pandas as pd\n",
    "import numpy as np\n",
    "from pathlib import Path\n",
    "from matplotlib import pyplot as plt\n",
    "from tqdm import tqdm\n",
    "import json\n",
    "from sklearn.linear_model import RidgeCV\n",
    "from sklearn.model_selection import train_test_split\n",
    "from sklearn.linear_model import LinearRegression\n",
    "from sklearn.metrics import mean_squared_error\n",
    "from sklearn.linear_model import Ridge\n",
    "data_pth = Path('../data/')"
   ]
  },
  {
   "cell_type": "markdown",
   "metadata": {},
   "source": [
    "# Jerry Trial"
   ]
  },
  {
   "cell_type": "code",
   "execution_count": 136,
   "metadata": {},
   "outputs": [
    {
     "name": "stdout",
     "output_type": "stream",
     "text": [
      "<class 'pandas.core.frame.DataFrame'>\n",
      "Int64Index: 11538 entries, 0 to 54733\n",
      "Data columns (total 19 columns):\n",
      " #   Column     Non-Null Count  Dtype  \n",
      "---  ------     --------------  -----  \n",
      " 0   YEAR       11538 non-null  int64  \n",
      " 1   ASECWTH    11538 non-null  float64\n",
      " 2   REGION     11538 non-null  int64  \n",
      " 3   STATEFIP   11538 non-null  int64  \n",
      " 4   NFAMS      11538 non-null  int64  \n",
      " 5   PERNUM     11538 non-null  int64  \n",
      " 6   ASECWT     11538 non-null  float64\n",
      " 7   AGE        11538 non-null  int64  \n",
      " 8   SEX        11538 non-null  int64  \n",
      " 9   RACE       11538 non-null  int64  \n",
      " 10  MARST      11538 non-null  int64  \n",
      " 11  BPL        11538 non-null  int64  \n",
      " 12  EMPSTAT    11538 non-null  int64  \n",
      " 13  OCC        11538 non-null  int64  \n",
      " 14  UHRSWORKT  11538 non-null  int64  \n",
      " 15  WKSTAT     11538 non-null  int64  \n",
      " 16  EDUC       11538 non-null  int64  \n",
      " 17  INCWAGE    11538 non-null  float64\n",
      " 18  OINCWAGE   11538 non-null  float64\n",
      "dtypes: float64(4), int64(15)\n",
      "memory usage: 1.8 MB\n"
     ]
    }
   ],
   "source": [
    "raw_data = pd.read_csv('../data/beginner.csv')\n",
    "clean_data = raw_data[(raw_data[\"INCWAGE\"] != 99999999.0) & (raw_data[\"INCWAGE\"] != 0.0)]\n",
    "clean_data = clean_data.dropna(subset = ['INCWAGE'])\n",
    "clean_data = clean_data.dropna(how = 'all', axis = 1)\n",
    "clean_data = clean_data.drop(columns = ['HFLAG', 'ASECFLAG', 'MONTH', 'CPSID', 'SERIAL', 'CPSIDP'])\n",
    "clean_data.info()"
   ]
  },
  {
   "cell_type": "code",
   "execution_count": 137,
   "metadata": {},
   "outputs": [
    {
     "data": {
      "text/plain": [
       "Index(['YEAR', 'ASECWTH', 'REGION', 'STATEFIP', 'NFAMS', 'PERNUM', 'ASECWT',\n",
       "       'AGE', 'SEX', 'RACE', 'MARST', 'BPL', 'EMPSTAT', 'OCC', 'UHRSWORKT',\n",
       "       'WKSTAT', 'EDUC', 'INCWAGE', 'OINCWAGE'],\n",
       "      dtype='object')"
      ]
     },
     "execution_count": 137,
     "metadata": {},
     "output_type": "execute_result"
    }
   ],
   "source": [
    "column = clean_data.columns.copy()\n",
    "column"
   ]
  },
  {
   "cell_type": "code",
   "execution_count": 138,
   "metadata": {},
   "outputs": [],
   "source": [
    "model_data = clean_data[['EDUC', 'AGE', 'WKSTAT']].astype(str)"
   ]
  },
  {
   "cell_type": "code",
   "execution_count": 139,
   "metadata": {},
   "outputs": [],
   "source": [
    "model_data = pd.get_dummies(data = model_data)"
   ]
  },
  {
   "cell_type": "code",
   "execution_count": 140,
   "metadata": {},
   "outputs": [
    {
     "data": {
      "text/plain": [
       "(0.2245638814739056, 2664244521.316953)"
      ]
     },
     "execution_count": 140,
     "metadata": {},
     "output_type": "execute_result"
    }
   ],
   "source": [
    "X = model_data.to_numpy()\n",
    "y = clean_data['INCWAGE'].to_numpy()\n",
    "X_train, X_test, y_train, y_test = train_test_split(X, y, test_size = 0.1)\n",
    "\n",
    "# model = LinearRegression(normalize = True)\n",
    "# model.fit(X_train, y_train) \n",
    "# weight = model.coef_\n",
    "# bias = model.intercept_\n",
    "# X_predict = model.predict(X_test)\n",
    "# model_error = mean_squared_error(y_test, X_predict)\n",
    "# model.score(X_test, y_test), model_error\n",
    "\n",
    "# clf = RidgeCV(alphas=[1e-3]).fit(X_train, y_train)\n",
    "# clf.score(X_test, y_test)\n",
    "\n",
    "rng = np.random.RandomState(0)\n",
    "clf = Ridge(alpha = 0.1)\n",
    "clf.fit(X_train, y_train)\n",
    "model_err = mean_squared_error(clf.predict(X_test), y_test)\n",
    "clf.score(X_test, y_test), model_err"
   ]
  },
  {
   "cell_type": "code",
   "execution_count": 71,
   "metadata": {},
   "outputs": [
    {
     "data": {
      "text/plain": [
       "WKSTAT      -0.218311\n",
       "MARST       -0.192359\n",
       "OCC         -0.176454\n",
       "SEX         -0.156439\n",
       "EMPSTAT     -0.156022\n",
       "PERNUM      -0.144205\n",
       "UHRSWORKT   -0.130031\n",
       "NFAMS       -0.061125\n",
       "STATEFIP    -0.015878\n",
       "REGION      -0.012508\n",
       "RACE        -0.000379\n",
       "ASECWT       0.003102\n",
       "BPL          0.016128\n",
       "ASECWTH      0.017116\n",
       "YEAR         0.083502\n",
       "AGE          0.168040\n",
       "OINCWAGE     0.211331\n",
       "EDUC         0.326636\n",
       "INCWAGE      1.000000\n",
       "Name: INCWAGE, dtype: float64"
      ]
     },
     "execution_count": 71,
     "metadata": {},
     "output_type": "execute_result"
    }
   ],
   "source": [
    "clean_data.corr()['INCWAGE'].sort_values()"
   ]
  },
  {
   "cell_type": "markdown",
   "metadata": {},
   "source": [
    "# End of Jerry Trial"
   ]
  },
  {
   "cell_type": "markdown",
   "metadata": {},
   "source": [
    "## Constants"
   ]
  },
  {
   "cell_type": "code",
   "execution_count": null,
   "metadata": {},
   "outputs": [],
   "source": [
    "NIU = 99999999\n",
    "with open(data_pth / 'cpi99_cons.json') as fin:\n",
    "    cpi99_cons = json.load(fin)"
   ]
  },
  {
   "cell_type": "markdown",
   "metadata": {},
   "source": [
    "Drop useless columns"
   ]
  },
  {
   "cell_type": "code",
   "execution_count": null,
   "metadata": {},
   "outputs": [],
   "source": [
    "raw_data = pd.read_csv('../data/beginner.csv')\n",
    "simple_data = raw_data[[\n",
    "    'YEAR', 'SERIAL', 'REGION', 'NFAMS', 'PERNUM', \n",
    "    'AGE', 'SEX', 'EMPSTAT', 'OCC', 'UHRSWORKT', \n",
    "    'WKSTAT', 'JOBCERT', 'EDUC', 'INCWAGE', 'OINCWAGE']]\n",
    "simple_data.to_csv('../data/simple_data.csv', index=False)"
   ]
  },
  {
   "cell_type": "code",
   "execution_count": null,
   "metadata": {},
   "outputs": [],
   "source": [
    "incwage = simple_data['INCWAGE']\n",
    "print('total reports:', len(incwage))\n",
    "print('number of 0 wage:', np.count_nonzero(incwage == 0))\n",
    "print('number of N.I.U wage:', np.count_nonzero(incwage == 99999999))\n",
    "print('number of ? wage:', np.count_nonzero(incwage == 99999998))\n",
    "print('number of NaN wage:', np.count_nonzero(incwage.isna()))\n",
    "print('number of readable wage:', np.count_nonzero((incwage > 0) & (incwage < 99999998)))\n"
   ]
  },
  {
   "cell_type": "code",
   "execution_count": null,
   "metadata": {},
   "outputs": [],
   "source": [
    "filtered = simple_data[(simple_data['INCWAGE'] >= 0) & (simple_data['INCWAGE'] < NIU)].reset_index(drop=True)\n",
    "\n",
    "filtered_nonzero = filtered[filtered['INCWAGE'] > 0].reset_index(drop=True)\n",
    "filtered_nonzero"
   ]
  },
  {
   "cell_type": "code",
   "execution_count": null,
   "metadata": {},
   "outputs": [],
   "source": [
    "import seaborn as sns\n",
    "corr = filtered_nonzero.corr()\n",
    "sns.heatmap(corr, xticklabels=corr.columns, yticklabels=corr.columns)\n"
   ]
  },
  {
   "cell_type": "code",
   "execution_count": null,
   "metadata": {},
   "outputs": [],
   "source": [
    "# per individual"
   ]
  },
  {
   "cell_type": "code",
   "execution_count": null,
   "metadata": {},
   "outputs": [],
   "source": [
    "def clean_wage(df):\n",
    "\n",
    "    df['cpi99'] = df['YEAR'].apply(lambda yr : cpi99_cons[str(yr)])\n",
    "    df['inc_cpi99'] = df['INCWAGE'] * df['cpi99']\n",
    "\n",
    "    df.groupby('YEAR').mean()['INCWAGE'].plot(legend=True)\n",
    "    df.groupby('YEAR').mean()['inc_cpi99'].plot(legend=True)\n",
    "\n",
    "clean_wage(filtered_nonzero)\n",
    "clean_wage(filtered)\n"
   ]
  },
  {
   "cell_type": "code",
   "execution_count": null,
   "metadata": {},
   "outputs": [],
   "source": [
    "def display_categ(df, it):\n",
    "    # salary = df['inc_salary_cpi99']\n",
    "    # it = df[it]\n",
    "    df.groupby(it).mean()['inc_cpi99'].plot(kind=\"bar\", legend=True)\n",
    "    plt.figure()\n",
    "\n",
    "indices = ['REGION', 'NFAMS', 'AGE', 'SEX', 'EMPSTAT', 'OCC', 'UHRSWORKT', 'WKSTAT', 'EDUC']\n",
    "\n",
    "for idx in indices:\n",
    "    display_categ(filtered, idx)"
   ]
  }
 ],
 "metadata": {
  "interpreter": {
   "hash": "8f7cfbb7ef904ddf1d690707a1cc721bc294144ec6b23e9344aaa279ecf05b8a"
  },
  "kernelspec": {
   "display_name": "Python 3",
   "language": "python",
   "name": "python3"
  },
  "language_info": {
   "codemirror_mode": {
    "name": "ipython",
    "version": 3
   },
   "file_extension": ".py",
   "mimetype": "text/x-python",
   "name": "python",
   "nbconvert_exporter": "python",
   "pygments_lexer": "ipython3",
   "version": "3.8.8"
  }
 },
 "nbformat": 4,
 "nbformat_minor": 2
}
